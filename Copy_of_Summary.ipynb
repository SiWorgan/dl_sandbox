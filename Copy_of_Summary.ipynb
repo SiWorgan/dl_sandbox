{
  "nbformat": 4,
  "nbformat_minor": 0,
  "metadata": {
    "colab": {
      "name": "Copy of Summary.ipynb",
      "provenance": [],
      "authorship_tag": "ABX9TyNWEbe1e9REKhAvYbdReyQq",
      "include_colab_link": true
    },
    "kernelspec": {
      "name": "python3",
      "display_name": "Python 3"
    },
    "language_info": {
      "name": "python"
    }
  },
  "cells": [
    {
      "cell_type": "markdown",
      "metadata": {
        "id": "view-in-github",
        "colab_type": "text"
      },
      "source": [
        "<a href=\"https://colab.research.google.com/github/SiWorgan/dl_sandbox/blob/master/Copy_of_Summary.ipynb\" target=\"_parent\"><img src=\"https://colab.research.google.com/assets/colab-badge.svg\" alt=\"Open In Colab\"/></a>"
      ]
    },
    {
      "cell_type": "code",
      "execution_count": null,
      "metadata": {
        "id": "zoCQ7E2ukzja"
      },
      "outputs": [],
      "source": [
        "import json, datetime\n",
        "import pandas as pd\n",
        "\n",
        "from transformers import T5Tokenizer\n",
        "from transformers import BartTokenizer\n",
        "from transformers import pipeline\n",
        "from transformers import AutoModelForSeq2SeqLM, AutoTokenizer\n",
        "\n",
        "from pynvml import *\n",
        "\n",
        "def print_gpu_utilization():\n",
        "  nvmlInit()\n",
        "  handle = nvmlDeviceGetHandleByIndex(0)\n",
        "  info = nvmlDeviceGetMemoryInfo(handle)\n",
        "  print(f\"GPU memory occupied: {info.used//1024**2} MB.\")\n",
        "\n",
        "hf_name = 'pszemraj/led-large-book-summary'\n",
        "\n",
        "_model = AutoModelForSeq2SeqLM.from_pretrained(\n",
        "    hf_name,\n",
        "    low_cpu_mem_usage=True,\n",
        ")\n",
        "\n",
        "_tokenizer = AutoTokenizer.from_pretrained(\n",
        "    hf_name\n",
        ")\n",
        "\n",
        "summarizer = pipeline(\n",
        "    \"summarization\",\n",
        "    model=_model,\n",
        "    tokenizer=_tokenizer,\n",
        "    device=0\n",
        ")\n",
        "\n",
        "full_transcript = \"TRANSCRIPT!\"\n",
        "\n",
        "summary = summarizer(transcript,\n",
        "                     min_length=16,\n",
        "                     max_length=256,\n",
        "                     no_repeat_ngram_size=3,\n",
        "                     encoder_no_repeat_ngram_size=3,\n",
        "                     clean_up_tokenization_spaces=True,\n",
        "                     repetition_penalty=3.7,\n",
        "                     num_beams=4,\n",
        "                     early_stopping=True)\n",
        "\n",
        "csv_transcript = \"CSV_TRANSCRIPT!\"\n",
        "\n",
        "def nest_sentences(document):\n",
        "  tokenizer = BartTokenizer.from_pretrained('facebook/bart-large-cnn')\n",
        "  chunks = {\"time\": [], \"chunk\": []}\n",
        "  length = 0\n",
        "  chunk = \"\"\n",
        "  for time, turn in zip(document[\"time\"], document[\"content\"]):\n",
        "    length += len(tokenizer(turn, max_length=None, return_tensors='pt', truncation=False)['input_ids'][0])\n",
        "    if length < 1024:\n",
        "      chunk += \" \" + turn\n",
        "    else:\n",
        "      chunks[\"chunk\"].append(chunk)\n",
        "      chunks[\"time\"].append(time)\n",
        "      chunk = turn\n",
        "      length = len(tokenizer(turn, max_length=None, return_tensors='pt', truncation=False)['input_ids'][0])\n",
        "\n",
        "    chunks[\"chunk\"].append(chunk)\n",
        "    chunks[\"time\"].append(time)\n",
        "\n",
        "    return chunks\n",
        "\n",
        "def generate_summary(nested_sentences):\n",
        "  section_summarizer = pipeline(\"summarization\", model=\"knkarthick/MEETING_SUMMARY\", device=0)\n",
        "  summaries = {\"time\":[], \"summary\": []}\n",
        "  for time, chunk in zip(nested_sentences[\"time\"], nested_sentences[\"chunk\"]):\n",
        "    summaries[\"time\"].append(time)\n",
        "    summaries[\"summary\"].append(section_summarizer(chunk)[0]['summary_text'])\n",
        "\n",
        "  return summaries\n",
        "\n",
        "nested_sentences = nest_sentences(csv_transcript)\n",
        "summaries = generate_summary(nested_sentences)\n",
        "\n",
        "df = pd.DataFrame(summaries)\n",
        "df.to_csv(f'summary_output.csv', index=False)\n",
        "\n",
        "  "
      ]
    }
  ]
}