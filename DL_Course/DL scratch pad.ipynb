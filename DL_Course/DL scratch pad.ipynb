{
 "cells": [
  {
   "cell_type": "code",
   "execution_count": 1,
   "metadata": {
    "collapsed": true
   },
   "outputs": [],
   "source": [
    "import pandas as pd\n",
    "from sklearn.linear_model import LinearRegression\n",
    "\n",
    "# Assign the dataframe to this variable.\n",
    "# TODO: Load the data\n",
    "bmi_life_data = pd.read_csv('bmi_and_life_expectancy.csv')\n",
    "\n"
   ]
  },
  {
   "cell_type": "code",
   "execution_count": 7,
   "metadata": {
    "collapsed": false
   },
   "outputs": [
    {
     "data": {
      "text/plain": [
       "0      52.8\n",
       "1      76.8\n",
       "2      75.5\n",
       "3      84.6\n",
       "4      56.7\n",
       "5      72.3\n",
       "6      81.6\n",
       "7      80.4\n",
       "8      69.2\n",
       "9      72.2\n",
       "10     68.3\n",
       "11     75.3\n",
       "12     70.0\n",
       "13     79.6\n",
       "14     70.7\n",
       "15     59.7\n",
       "16     70.7\n",
       "17     71.2\n",
       "18     77.5\n",
       "19     53.2\n",
       "20     73.2\n",
       "21     73.2\n",
       "22     58.0\n",
       "23     59.1\n",
       "24     66.1\n",
       "25     56.6\n",
       "26     80.8\n",
       "27     70.4\n",
       "28     54.3\n",
       "29     78.5\n",
       "       ... \n",
       "133    81.1\n",
       "134    74.0\n",
       "135    65.5\n",
       "136    70.2\n",
       "137    45.1\n",
       "138    81.1\n",
       "139    82.0\n",
       "140    76.1\n",
       "141    69.6\n",
       "142    60.4\n",
       "143    73.9\n",
       "144    69.9\n",
       "145    57.5\n",
       "146    70.3\n",
       "147    71.7\n",
       "148    76.8\n",
       "149    77.8\n",
       "150    67.2\n",
       "151    56.0\n",
       "152    67.8\n",
       "153    75.6\n",
       "154    79.7\n",
       "155    78.3\n",
       "156    76.0\n",
       "157    69.6\n",
       "158    63.4\n",
       "159    74.1\n",
       "160    74.1\n",
       "161    51.1\n",
       "162    47.3\n",
       "Name: Life expectancy, dtype: float64"
      ]
     },
     "execution_count": 7,
     "metadata": {},
     "output_type": "execute_result"
    }
   ],
   "source": [
    "bmi_life_data[\"Life expectancy\"]"
   ]
  },
  {
   "cell_type": "code",
   "execution_count": 12,
   "metadata": {
    "collapsed": false
   },
   "outputs": [
    {
     "name": "stderr",
     "output_type": "stream",
     "text": [
      "/Users/simonworgan/anaconda/lib/python3.5/site-packages/ipykernel/__main__.py:3: FutureWarning: reshape is deprecated and will raise in a subsequent release. Please use .values.reshape(...) instead\n",
      "  app.launch_new_instance()\n",
      "/Users/simonworgan/anaconda/lib/python3.5/site-packages/sklearn/utils/validation.py:395: DeprecationWarning: Passing 1d arrays as data is deprecated in 0.17 and will raise ValueError in 0.19. Reshape your data either using X.reshape(-1, 1) if your data has a single feature or X.reshape(1, -1) if it contains a single sample.\n",
      "  DeprecationWarning)\n"
     ]
    }
   ],
   "source": [
    "# Make and fit the linear regression model\n",
    "#TODO: Fit the model and Assign it to bmi_life_model\n",
    "bmi_life_model = LinearRegression().fit(bmi_life_data[\"BMI\"].reshape(-1, 1), bmi_life_data[\"Life expectancy\"])\n",
    "\n",
    "# Mak a prediction using the model\n",
    "# TODO: Predict life expectancy for a BMI value of 21.07931\n",
    "laos_life_exp = bmi_life_model.predict([21.07931])"
   ]
  },
  {
   "cell_type": "code",
   "execution_count": 13,
   "metadata": {
    "collapsed": false
   },
   "outputs": [
    {
     "data": {
      "text/plain": [
       "array([ 15.85138014])"
      ]
     },
     "execution_count": 13,
     "metadata": {},
     "output_type": "execute_result"
    }
   ],
   "source": [
    "laos_life_exp"
   ]
  },
  {
   "cell_type": "markdown",
   "metadata": {},
   "source": [
    "### Gradient Descent"
   ]
  },
  {
   "cell_type": "code",
   "execution_count": null,
   "metadata": {
    "collapsed": true
   },
   "outputs": [],
   "source": [
    "from numpy import *\n",
    "\n",
    "def compute_error(b,m,points):\n",
    "    tot_error=0\n",
    "    for i in range(0, len(points)):\n",
    "        x = points[i,0]\n",
    "        y = points[i,1]\n",
    "        totalError += (y-(m*x+b)) ** 2\n",
    "        \n",
    "    return totalError / float(len(points))\n",
    "\n",
    "def gradient_descent_runner(points, start_b, start_m, lr, num_its):\n",
    "    b = start_b\n",
    "    m = start_m\n",
    "    \n",
    "    for i in range(num_its):\n",
    "        b, m = step_gradient(b, m, array(points), lr)\n",
    "        \n",
    "    return [b,m]\n",
    "\n",
    "def step_gradient(b_cur, m_cur, points, lr):\n",
    "    b_grad=0\n",
    "    m_grad=0\n",
    "    \n",
    "    N = float(len(points))\n",
    "    \n",
    "    for i in range(0, len(points)):\n",
    "        x = points[i,0]\n",
    "        y = points[i,1]\n",
    "        #compute partial derivative with respect to b and m\n",
    "        #which direction do we modify b & m\n",
    "        b_grad += (2/n)*(y-((m_cur * x) + b_cur))\n",
    "        m_grad += (2/N)*x*(y-((m_cur * x) + b_cur))\n",
    "        \n",
    "    new_b = b_cur - (lr * b_grad)\n",
    "    new_m = m_cur - (lr * m_grad)\n",
    "    return [new_b, new_m]\n",
    "        \n",
    "\n",
    "def run():\n",
    "    points = genfromtxt('data.csv', delimiter=',')\n",
    "    learning_rate = 0.0001\n",
    "    #y = mx+b (slope)\n",
    "    initial_b = 0\n",
    "    initial_m = 0\n",
    "    num_iterations = 1000\n",
    "    \n",
    "    #train the model\n",
    "    print 'starting gradient descent at b={0},m={1}, error={2}'.format(initial_b,initial_m,compute_error(intial_b,initial_m,points))\n",
    "    [b, m] = gradient_descent_runner(points, initial_b, initial_m, learning_rate, num_parameters)\n",
    "    print 'final point at b = {0}, m={1}, error={2}'.format(b,m,compute_error(b,m,points))\n",
    "    \n",
    "if __name__ == '__main__':\n",
    "    run()"
   ]
  },
  {
   "cell_type": "markdown",
   "metadata": {},
   "source": [
    "### Neural Network"
   ]
  },
  {
   "cell_type": "markdown",
   "metadata": {},
   "source": [
    "## Notes"
   ]
  },
  {
   "cell_type": "markdown",
   "metadata": {},
   "source": []
  }
 ],
 "metadata": {
  "kernelspec": {
   "display_name": "Python 3",
   "language": "python",
   "name": "python3"
  },
  "language_info": {
   "codemirror_mode": {
    "name": "ipython",
    "version": 3
   },
   "file_extension": ".py",
   "mimetype": "text/x-python",
   "name": "python",
   "nbconvert_exporter": "python",
   "pygments_lexer": "ipython3",
   "version": "3.5.1"
  }
 },
 "nbformat": 4,
 "nbformat_minor": 0
}
