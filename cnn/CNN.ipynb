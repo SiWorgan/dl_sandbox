{
 "cells": [
  {
   "cell_type": "markdown",
   "metadata": {},
   "source": [
    "# Setup"
   ]
  },
  {
   "cell_type": "code",
   "execution_count": 1,
   "metadata": {
    "collapsed": true
   },
   "outputs": [],
   "source": [
    "%matplotlib inline"
   ]
  },
  {
   "cell_type": "code",
   "execution_count": 6,
   "metadata": {
    "collapsed": false
   },
   "outputs": [],
   "source": [
    "import keras\n",
    "import vgg16\n",
    "import os\n",
    "import numpy as np\n",
    "\n",
    "from vgg16 import Vgg16\n",
    "from glob import glob"
   ]
  },
  {
   "cell_type": "code",
   "execution_count": 3,
   "metadata": {
    "collapsed": false
   },
   "outputs": [],
   "source": [
    "model = Vgg16()"
   ]
  },
  {
   "cell_type": "code",
   "execution_count": 25,
   "metadata": {
    "collapsed": true
   },
   "outputs": [],
   "source": [
    "#path = 'data/fish/'\n",
    "path = 'data/sample_fish/'"
   ]
  },
  {
   "cell_type": "markdown",
   "metadata": {},
   "source": [
    "# Create Validation Set"
   ]
  },
  {
   "cell_type": "code",
   "execution_count": 24,
   "metadata": {
    "collapsed": false
   },
   "outputs": [],
   "source": [
    "for sub_path in os.listdir(path+'/train/'):\n",
    "    g = glob(path+'train/'+sub_path+'/*.jpg')\n",
    "    shuf = np.random.permutation(g)\n",
    "    for i in range(int(len(g)*0.2)):\n",
    "        os.rename(shuf[i], path+'valid/' + sub_path + '/' + shuf[i].split('/')[-1])"
   ]
  },
  {
   "cell_type": "markdown",
   "metadata": {},
   "source": [
    "# Fit a Model"
   ]
  },
  {
   "cell_type": "code",
   "execution_count": 38,
   "metadata": {
    "collapsed": false
   },
   "outputs": [],
   "source": [
    "bs=64\n",
    "noe=10"
   ]
  },
  {
   "cell_type": "code",
   "execution_count": 51,
   "metadata": {
    "collapsed": false
   },
   "outputs": [
    {
     "name": "stdout",
     "output_type": "stream",
     "text": [
      "Found 11 images belonging to 8 classes.\n",
      "Found 11 images belonging to 8 classes.\n"
     ]
    }
   ],
   "source": [
    "batches = model.get_batches(path+'train', batch_size=bs, shuffle=False)\n",
    "valid_batches = model.get_batches(path+'valid', batch_size=bs*2)"
   ]
  },
  {
   "cell_type": "code",
   "execution_count": 40,
   "metadata": {
    "collapsed": true
   },
   "outputs": [],
   "source": [
    "model.finetune(batches)"
   ]
  },
  {
   "cell_type": "code",
   "execution_count": 41,
   "metadata": {
    "collapsed": false
   },
   "outputs": [
    {
     "name": "stdout",
     "output_type": "stream",
     "text": [
      "Epoch 1/10\n",
      "11/11 [==============================] - 26s - loss: 3.8008 - acc: 0.2727 - val_loss: 2.4274 - val_acc: 0.1818\n",
      "Epoch 2/10\n",
      "11/11 [==============================] - 25s - loss: 3.5846 - acc: 0.0000e+00 - val_loss: 1.7090 - val_acc: 0.3636\n",
      "Epoch 3/10\n",
      "11/11 [==============================] - 25s - loss: 3.7541 - acc: 0.1818 - val_loss: 1.2029 - val_acc: 0.3636\n",
      "Epoch 4/10\n",
      "11/11 [==============================] - 24s - loss: 2.8228 - acc: 0.1818 - val_loss: 0.8084 - val_acc: 0.7273\n",
      "Epoch 5/10\n",
      "11/11 [==============================] - 25s - loss: 1.5640 - acc: 0.5455 - val_loss: 0.5237 - val_acc: 0.8182\n",
      "Epoch 6/10\n",
      "11/11 [==============================] - 25s - loss: 1.3521 - acc: 0.3636 - val_loss: 0.3417 - val_acc: 0.9091\n",
      "Epoch 7/10\n",
      "11/11 [==============================] - 23s - loss: 1.0965 - acc: 0.7273 - val_loss: 0.2203 - val_acc: 0.9091\n",
      "Epoch 8/10\n",
      "11/11 [==============================] - 24s - loss: 0.3077 - acc: 0.8182 - val_loss: 0.1364 - val_acc: 0.9091\n",
      "Epoch 9/10\n",
      "11/11 [==============================] - 25s - loss: 0.2773 - acc: 0.9091 - val_loss: 0.0967 - val_acc: 0.9091\n",
      "Epoch 10/10\n",
      "11/11 [==============================] - 24s - loss: 0.3188 - acc: 0.9091 - val_loss: 0.0667 - val_acc: 1.0000\n"
     ]
    }
   ],
   "source": [
    "model.fit(batches, valid_batches, nb_epoch=noe)"
   ]
  },
  {
   "cell_type": "code",
   "execution_count": 52,
   "metadata": {
    "collapsed": false
   },
   "outputs": [
    {
     "data": {
      "text/plain": [
       "['ALB/img_00003.jpg',\n",
       " 'ALB/img_00010.jpg',\n",
       " 'ALB/img_01271.jpg',\n",
       " 'BET/img_00107.jpg',\n",
       " 'DOL/img_00734.jpg',\n",
       " 'LAG/img_00091.jpg',\n",
       " 'NoF/img_00068.jpg',\n",
       " 'OTHER/img_00721.jpg',\n",
       " 'SHARK/img_00033.jpg',\n",
       " 'SHARK/img_00096.jpg',\n",
       " 'YFT/img_00641.jpg']"
      ]
     },
     "execution_count": 52,
     "metadata": {},
     "output_type": "execute_result"
    }
   ],
   "source": [
    "batches.filenames"
   ]
  },
  {
   "cell_type": "code",
   "execution_count": 53,
   "metadata": {
    "collapsed": true
   },
   "outputs": [],
   "source": [
    "imgs, labels = next(batches)"
   ]
  },
  {
   "cell_type": "code",
   "execution_count": 54,
   "metadata": {
    "collapsed": false
   },
   "outputs": [
    {
     "data": {
      "text/plain": [
       "array([[ 1.,  0.,  0.,  0.,  0.,  0.,  0.,  0.],\n",
       "       [ 1.,  0.,  0.,  0.,  0.,  0.,  0.,  0.],\n",
       "       [ 1.,  0.,  0.,  0.,  0.,  0.,  0.,  0.],\n",
       "       [ 0.,  1.,  0.,  0.,  0.,  0.,  0.,  0.],\n",
       "       [ 0.,  0.,  1.,  0.,  0.,  0.,  0.,  0.],\n",
       "       [ 0.,  0.,  0.,  1.,  0.,  0.,  0.,  0.],\n",
       "       [ 0.,  0.,  0.,  0.,  1.,  0.,  0.,  0.],\n",
       "       [ 0.,  0.,  0.,  0.,  0.,  1.,  0.,  0.],\n",
       "       [ 0.,  0.,  0.,  0.,  0.,  0.,  1.,  0.],\n",
       "       [ 0.,  0.,  0.,  0.,  0.,  0.,  1.,  0.],\n",
       "       [ 0.,  0.,  0.,  0.,  0.,  0.,  0.,  1.]], dtype=float32)"
      ]
     },
     "execution_count": 54,
     "metadata": {},
     "output_type": "execute_result"
    }
   ],
   "source": [
    "labels"
   ]
  },
  {
   "cell_type": "markdown",
   "metadata": {},
   "source": [
    "# Write out Predictions"
   ]
  },
  {
   "cell_type": "code",
   "execution_count": 59,
   "metadata": {
    "collapsed": false
   },
   "outputs": [
    {
     "name": "stdout",
     "output_type": "stream",
     "text": [
      "Found 4 images belonging to 1 classes.\n"
     ]
    }
   ],
   "source": [
    "batches, preds = model.test(path+'test_stg1', batch_size = bs*2)"
   ]
  },
  {
   "cell_type": "code",
   "execution_count": 60,
   "metadata": {
    "collapsed": true
   },
   "outputs": [],
   "source": [
    "filenames = batches.filenames\n",
    "\n",
    "with open(\"sample_sub.csv\", \"w\") as f:\n",
    "    f.write(\"image,ALB,BET,DOL,LAG,NoF,OTHER,SHARK,YFT\\n\")\n",
    "    for pred,fn in zip(preds, filenames):\n",
    "        pred = \",\".join(map(lambda x: str(x), pred))\n",
    "        f.write(fn+\",\"+pred+\"\\n\")"
   ]
  },
  {
   "cell_type": "code",
   "execution_count": 57,
   "metadata": {
    "collapsed": false
   },
   "outputs": [
    {
     "data": {
      "text/plain": [
       "array([[  9.78287160e-01,   1.17021508e-03,   1.64011959e-03,\n",
       "          5.07443724e-03,   4.53603640e-03,   7.92800263e-03,\n",
       "          5.43596456e-04,   8.20445828e-04],\n",
       "       [  9.85946238e-01,   2.39371031e-04,   7.97419634e-04,\n",
       "          4.02532278e-05,   3.02053615e-03,   9.68686212e-03,\n",
       "          1.84084303e-04,   8.52012963e-05],\n",
       "       [  3.33612028e-04,   2.85495128e-02,   9.90263093e-03,\n",
       "          1.79892722e-05,   5.80656249e-03,   5.38211584e-01,\n",
       "          3.36973876e-01,   8.02041888e-02],\n",
       "       [  9.80785549e-01,   3.48312897e-03,   3.71211441e-04,\n",
       "          6.60268488e-05,   1.17640225e-02,   1.18196476e-04,\n",
       "          2.56246794e-03,   8.49252450e-04]], dtype=float32)"
      ]
     },
     "execution_count": 57,
     "metadata": {},
     "output_type": "execute_result"
    }
   ],
   "source": [
    "preds"
   ]
  },
  {
   "cell_type": "code",
   "execution_count": 58,
   "metadata": {
    "collapsed": false
   },
   "outputs": [
    {
     "data": {
      "text/plain": [
       "['ALB/img_00003.jpg',\n",
       " 'ALB/img_00010.jpg',\n",
       " 'ALB/img_01271.jpg',\n",
       " 'BET/img_00107.jpg',\n",
       " 'DOL/img_00734.jpg',\n",
       " 'LAG/img_00091.jpg',\n",
       " 'NoF/img_00068.jpg',\n",
       " 'OTHER/img_00721.jpg',\n",
       " 'SHARK/img_00033.jpg',\n",
       " 'SHARK/img_00096.jpg',\n",
       " 'YFT/img_00641.jpg']"
      ]
     },
     "execution_count": 58,
     "metadata": {},
     "output_type": "execute_result"
    }
   ],
   "source": [
    "batches.filenames"
   ]
  },
  {
   "cell_type": "code",
   "execution_count": null,
   "metadata": {
    "collapsed": true
   },
   "outputs": [],
   "source": []
  }
 ],
 "metadata": {
  "kernelspec": {
   "display_name": "Python 3",
   "language": "python",
   "name": "python3"
  },
  "language_info": {
   "codemirror_mode": {
    "name": "ipython",
    "version": 3
   },
   "file_extension": ".py",
   "mimetype": "text/x-python",
   "name": "python",
   "nbconvert_exporter": "python",
   "pygments_lexer": "ipython3",
   "version": "3.5.1"
  }
 },
 "nbformat": 4,
 "nbformat_minor": 0
}
