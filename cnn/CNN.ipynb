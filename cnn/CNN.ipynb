{
 "cells": [
  {
   "cell_type": "markdown",
   "metadata": {},
   "source": [
    "# Setup\n",
    "\n",
    "TO DO:\n",
    "- Retrain all dense layers\n",
    "- Run for a greater number of epochs\n",
    "- Crop/Flip the data to give a greater number of training examples \n",
    "- Normalise the data\n",
    "- Look at misclassifications for further ideas\n",
    "- Different boat validation set"
   ]
  },
  {
   "cell_type": "code",
   "execution_count": 1,
   "metadata": {
    "collapsed": true
   },
   "outputs": [],
   "source": [
    "%matplotlib inline\n",
    "%load_ext autoreload"
   ]
  },
  {
   "cell_type": "code",
   "execution_count": 2,
   "metadata": {
    "collapsed": false
   },
   "outputs": [
    {
     "name": "stderr",
     "output_type": "stream",
     "text": [
      "Using TensorFlow backend.\n"
     ]
    }
   ],
   "source": [
    "import keras\n",
    "import vgg16\n",
    "import os\n",
    "import numpy as np\n",
    "\n",
    "from vgg16 import Vgg16\n",
    "from glob import glob\n",
    "from keras.layers.core import Dense"
   ]
  },
  {
   "cell_type": "code",
   "execution_count": 3,
   "metadata": {
    "collapsed": false
   },
   "outputs": [],
   "source": [
    "model = Vgg16()"
   ]
  },
  {
   "cell_type": "code",
   "execution_count": 4,
   "metadata": {
    "collapsed": true
   },
   "outputs": [],
   "source": [
    "#path = 'data/'\n",
    "path = 'data/sample_fish/'"
   ]
  },
  {
   "cell_type": "markdown",
   "metadata": {},
   "source": [
    "# Create Validation Set"
   ]
  },
  {
   "cell_type": "code",
   "execution_count": null,
   "metadata": {
    "collapsed": false
   },
   "outputs": [],
   "source": [
    "for sub_path in os.listdir(path+'/train/'):\n",
    "    g = glob(path+'train/'+sub_path+'/*.jpg')\n",
    "    shuf = np.random.permutation(g)\n",
    "    for i in range(int(len(g)*0.2)):\n",
    "        os.rename(shuf[i], path+'valid/' + sub_path + '/' + shuf[i].split('/')[-1])"
   ]
  },
  {
   "cell_type": "markdown",
   "metadata": {},
   "source": [
    "# Fit a Model"
   ]
  },
  {
   "cell_type": "code",
   "execution_count": 5,
   "metadata": {
    "collapsed": false
   },
   "outputs": [],
   "source": [
    "bs=64\n",
    "noe=6"
   ]
  },
  {
   "cell_type": "code",
   "execution_count": 6,
   "metadata": {
    "collapsed": false
   },
   "outputs": [
    {
     "name": "stdout",
     "output_type": "stream",
     "text": [
      "Found 11 images belonging to 8 classes.\n",
      "Found 11 images belonging to 8 classes.\n"
     ]
    }
   ],
   "source": [
    "batches = model.get_batches(path+'train', batch_size=bs)\n",
    "valid_batches = model.get_batches(path+'valid', batch_size=bs*2)"
   ]
  },
  {
   "cell_type": "code",
   "execution_count": 7,
   "metadata": {
    "collapsed": false
   },
   "outputs": [],
   "source": [
    "%autoreload\n",
    "model.finetune(batches, 0.001)"
   ]
  },
  {
   "cell_type": "code",
   "execution_count": 8,
   "metadata": {
    "collapsed": false
   },
   "outputs": [
    {
     "name": "stdout",
     "output_type": "stream",
     "text": [
      "Epoch 1/6\n",
      "11/11 [==============================] - 25s - loss: 3.7862 - acc: 0.2727 - val_loss: 4.3777 - val_acc: 0.4545\n",
      "Epoch 2/6\n",
      "11/11 [==============================] - 23s - loss: 4.5158 - acc: 0.4545 - val_loss: 1.5180 - val_acc: 0.7273\n",
      "Epoch 3/6\n",
      "11/11 [==============================] - 23s - loss: 2.6202 - acc: 0.7273 - val_loss: 1.6941 - val_acc: 0.7273\n",
      "Epoch 4/6\n",
      "11/11 [==============================] - 23s - loss: 1.1706 - acc: 0.9091 - val_loss: 1.2656 - val_acc: 0.6364\n",
      "Epoch 5/6\n",
      "11/11 [==============================] - 23s - loss: 1.3440 - acc: 0.7273 - val_loss: 0.0557 - val_acc: 1.0000\n",
      "Epoch 6/6\n",
      "11/11 [==============================] - 24s - loss: 0.3406 - acc: 0.9091 - val_loss: 5.1684e-04 - val_acc: 1.0000\n"
     ]
    }
   ],
   "source": [
    "model.fit(batches, valid_batches, nb_epoch=noe)"
   ]
  },
  {
   "cell_type": "code",
   "execution_count": null,
   "metadata": {
    "collapsed": false
   },
   "outputs": [],
   "source": [
    "model.model.save_weights('finetune1.h5')"
   ]
  },
  {
   "cell_type": "markdown",
   "metadata": {},
   "source": [
    "Now optimise the other dense layers"
   ]
  },
  {
   "cell_type": "code",
   "execution_count": 9,
   "metadata": {
    "collapsed": false
   },
   "outputs": [],
   "source": [
    "layers = model.model.layers\n",
    "first_dense_idx = [index for index,layer in enumerate(layers) if type(layer) is Dense][0]\n",
    "for layer in layers[first_dense_idx:]: layer.trainable=True"
   ]
  },
  {
   "cell_type": "code",
   "execution_count": 10,
   "metadata": {
    "collapsed": false
   },
   "outputs": [
    {
     "name": "stdout",
     "output_type": "stream",
     "text": [
      "Epoch 1/6\n",
      "11/11 [==============================] - 25s - loss: 0.0664 - acc: 0.9091 - val_loss: 2.8936e-06 - val_acc: 1.0000\n",
      "Epoch 2/6\n",
      "11/11 [==============================] - 23s - loss: 0.1311 - acc: 0.9091 - val_loss: 2.2760e-04 - val_acc: 1.0000\n",
      "Epoch 3/6\n",
      "11/11 [==============================] - 23s - loss: 5.9281e-06 - acc: 1.0000 - val_loss: 5.2778e-06 - val_acc: 1.0000\n",
      "Epoch 4/6\n",
      "11/11 [==============================] - 23s - loss: 6.0961e-06 - acc: 1.0000 - val_loss: 6.6961e-05 - val_acc: 1.0000\n",
      "Epoch 5/6\n",
      "11/11 [==============================] - 24s - loss: 0.0727 - acc: 0.9091 - val_loss: 1.2734e-06 - val_acc: 1.0000\n",
      "Epoch 6/6\n",
      "11/11 [==============================] - 24s - loss: 1.1921e-07 - acc: 1.0000 - val_loss: 5.0152e-05 - val_acc: 1.0000\n"
     ]
    }
   ],
   "source": [
    "model.fit(batches, valid_batches, 6)"
   ]
  },
  {
   "cell_type": "code",
   "execution_count": null,
   "metadata": {
    "collapsed": true
   },
   "outputs": [],
   "source": [
    "model.model.save_weights('finetune2.h5')"
   ]
  },
  {
   "cell_type": "markdown",
   "metadata": {},
   "source": [
    "# Write out Predictions"
   ]
  },
  {
   "cell_type": "code",
   "execution_count": null,
   "metadata": {
    "collapsed": false
   },
   "outputs": [],
   "source": [
    "batches, preds = model.test(path+'test_stg1', batch_size = bs*2)"
   ]
  },
  {
   "cell_type": "code",
   "execution_count": null,
   "metadata": {
    "collapsed": true
   },
   "outputs": [],
   "source": [
    "filenames = batches.filenames\n",
    "\n",
    "with open(\"sample_sub.csv\", \"w\") as f:\n",
    "    f.write(\"image,ALB,BET,DOL,LAG,NoF,OTHER,SHARK,YFT\\n\")\n",
    "    for pred,fn in zip(preds, filenames):\n",
    "        pred = \",\".join(map(lambda x: str(x), pred))\n",
    "        f.write(fn+\",\"+pred+\"\\n\")"
   ]
  },
  {
   "cell_type": "markdown",
   "metadata": {},
   "source": [
    "# Analyse Results"
   ]
  },
  {
   "cell_type": "code",
   "execution_count": null,
   "metadata": {
    "collapsed": false
   },
   "outputs": [],
   "source": [
    "model.model.load_weights('finetune1.h5')"
   ]
  },
  {
   "cell_type": "code",
   "execution_count": null,
   "metadata": {
    "collapsed": false
   },
   "outputs": [],
   "source": [
    "batches.filenames"
   ]
  },
  {
   "cell_type": "code",
   "execution_count": null,
   "metadata": {
    "collapsed": true
   },
   "outputs": [],
   "source": []
  }
 ],
 "metadata": {
  "kernelspec": {
   "display_name": "Python 3",
   "language": "python",
   "name": "python3"
  },
  "language_info": {
   "codemirror_mode": {
    "name": "ipython",
    "version": 3
   },
   "file_extension": ".py",
   "mimetype": "text/x-python",
   "name": "python",
   "nbconvert_exporter": "python",
   "pygments_lexer": "ipython3",
   "version": "3.5.1"
  }
 },
 "nbformat": 4,
 "nbformat_minor": 0
}
